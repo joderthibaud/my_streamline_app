{
  "nbformat": 4,
  "nbformat_minor": 0,
  "metadata": {
    "colab": {
      "provenance": [],
      "gpuType": "T4",
      "authorship_tag": "ABX9TyOvdppPC1XD/D8lbVd8rJlR",
      "include_colab_link": true
    },
    "kernelspec": {
      "name": "python3",
      "display_name": "Python 3"
    },
    "language_info": {
      "name": "python"
    },
    "accelerator": "GPU"
  },
  "cells": [
    {
      "cell_type": "markdown",
      "metadata": {
        "id": "view-in-github",
        "colab_type": "text"
      },
      "source": [
        "<a href=\"https://colab.research.google.com/github/joderthibaud/my_streamline_app/blob/main/WikipediaFAQ.ipynb\" target=\"_parent\"><img src=\"https://colab.research.google.com/assets/colab-badge.svg\" alt=\"Open In Colab\"/></a>"
      ]
    },
    {
      "cell_type": "code",
      "execution_count": null,
      "metadata": {
        "id": "WeBthSI-yglh"
      },
      "outputs": [],
      "source": [
        "#   ! pip install -q kaggle\n",
        "# from google.colab import files\n",
        "# files.upload()"
      ]
    },
    {
      "cell_type": "code",
      "source": [
        "!pip freeze | grep kaggle"
      ],
      "metadata": {
        "id": "fdYqVLoDVTUe"
      },
      "execution_count": null,
      "outputs": []
    },
    {
      "cell_type": "code",
      "source": [
        "import kagglehub\n",
        "\n",
        "    # Authenticate\n",
        "kagglehub.login()"
      ],
      "metadata": {
        "id": "au6Z-ydrZIb1"
      },
      "execution_count": null,
      "outputs": []
    },
    {
      "cell_type": "code",
      "source": [
        "kagglehub.competition_download('tensorflow2-question-answering')"
      ],
      "metadata": {
        "id": "ENPl6oF1ZThu"
      },
      "execution_count": null,
      "outputs": []
    },
    {
      "cell_type": "code",
      "source": [
        "# # Unzip train and test set. This will take approximately 7 minutes\n",
        "# ! unzip tensorflow2-question-answering.zip"
      ],
      "metadata": {
        "id": "SJQ4s_wxBtAA"
      },
      "execution_count": null,
      "outputs": []
    },
    {
      "cell_type": "code",
      "source": [
        "!pip install simpletransformers==4.28.0"
      ],
      "metadata": {
        "id": "NIwGwJNIj-4_"
      },
      "execution_count": null,
      "outputs": []
    },
    {
      "cell_type": "code",
      "source": [
        "import json\n",
        "from tqdm.notebook import tqdm\n",
        "\n",
        "import numpy as np\n",
        "import pandas as pd\n",
        "import matplotlib.pyplot as plt\n",
        "\n",
        "import re"
      ],
      "metadata": {
        "id": "899M9APk9BYA"
      },
      "execution_count": null,
      "outputs": []
    },
    {
      "cell_type": "code",
      "source": [
        "def get_line_of_data(file):\n",
        "    line = file.readline()\n",
        "    line = json.loads(line)\n",
        "\n",
        "    return line\n",
        "\n",
        "\n",
        "def get_question_and_document(line):\n",
        "    question = line['question_text']\n",
        "    text = line['document_text'].split(' ')\n",
        "    annotations = line['annotations'][0]\n",
        "\n",
        "    return question, text, annotations\n",
        "\n",
        "\n",
        "def get_long_candidate(i, annotations, candidate):\n",
        "    # check if this candidate is the correct answer\n",
        "    if i == annotations['long_answer']['candidate_index']:\n",
        "        label = True\n",
        "    else:\n",
        "        label = False\n",
        "\n",
        "    # get place where long answer starts and ends in the document text\n",
        "    long_start = candidate['start_token']\n",
        "    long_end = candidate['end_token']\n",
        "\n",
        "    return label, long_start, long_end\n",
        "\n",
        "\n",
        "def form_data_row(question, label, text, long_start, long_end):\n",
        "    row = {\n",
        "        'question': question,\n",
        "        'long_answer': ' '.join(text[long_start:long_end]),\n",
        "        'is_long_answer': label,\n",
        "    }\n",
        "\n",
        "    return row\n",
        "\n",
        "\n",
        "def load_data(file_path, questions_start, questions_end):\n",
        "    rows = []\n",
        "\n",
        "    with open(file_path, encoding='latin-1') as file:\n",
        "\n",
        "        for i in tqdm(range(questions_start, questions_end)):\n",
        "            line = get_line_of_data(file)\n",
        "            question, text, annotations = get_question_and_document(line)\n",
        "\n",
        "            for i, candidate in enumerate(line['long_answer_candidates']):\n",
        "                label, long_start, long_end = get_long_candidate(i, annotations, candidate)\n",
        "\n",
        "                if label == True or (i % SAMPLE_RATE == 0):\n",
        "                    rows.append(\n",
        "                        form_data_row(question, label, text, long_start, long_end)\n",
        "                    )\n",
        "\n",
        "    return pd.DataFrame(rows)"
      ],
      "metadata": {
        "id": "dSZjijdc9Hbb"
      },
      "execution_count": null,
      "outputs": []
    },
    {
      "cell_type": "code",
      "source": [
        "TRAIN_PATH = \"/root/.cache/kagglehub/competitions/tensorflow2-question-answering/simplified-nq-train.jsonl\"\n",
        "TRAINING_SIZE, VALIDATION_SIZE = 1000, 1000\n",
        "SAMPLE_RATE = 15\n",
        "\n",
        "# Read train and validation sets\n",
        "train_df = load_data(TRAIN_PATH, 0, TRAINING_SIZE)\n",
        "val_df = load_data(TRAIN_PATH, TRAINING_SIZE, TRAINING_SIZE+VALIDATION_SIZE)"
      ],
      "metadata": {
        "id": "MRTJzUWA9VCc"
      },
      "execution_count": null,
      "outputs": []
    },
    {
      "cell_type": "code",
      "source": [],
      "metadata": {
        "id": "LKspmF869Ylv"
      },
      "execution_count": null,
      "outputs": []
    },
    {
      "cell_type": "code",
      "metadata": {
        "id": "3a5aa007"
      },
      "source": [
        "!ls /root/.cache/kagglehub/competitions/tensorflow2-question-answering/"
      ],
      "execution_count": null,
      "outputs": []
    },
    {
      "cell_type": "code",
      "source": [
        "def remove_html(sentence):\n",
        "    html = re.compile(r'<.*?>')\n",
        "    return html.sub(r'', sentence)\n",
        "\n",
        "\n",
        "def clean_df(df):\n",
        "    df['long_answer'] = df['long_answer'].apply(lambda x : remove_html(x))\n",
        "    df['question'] = df['question'].apply(lambda x : remove_html(x))\n",
        "\n",
        "    return df"
      ],
      "metadata": {
        "id": "W8MCJNBeCkf-"
      },
      "execution_count": null,
      "outputs": []
    },
    {
      "cell_type": "code",
      "source": [
        "train_df = clean_df(train_df)\n",
        "val_df = clean_df(val_df)"
      ],
      "metadata": {
        "id": "c9zOrBBbCyum"
      },
      "execution_count": null,
      "outputs": []
    },
    {
      "cell_type": "code",
      "source": [
        "display(train_df.head())\n",
        "display(val_df.head())"
      ],
      "metadata": {
        "id": "tx-1_bL2C4Xi"
      },
      "execution_count": null,
      "outputs": []
    },
    {
      "cell_type": "code",
      "source": [
        "from simpletransformers.classification import ClassificationModel"
      ],
      "metadata": {
        "colab": {
          "base_uri": "https://localhost:8080/",
          "height": 494
        },
        "id": "gMblFKG4M-B5",
        "outputId": "e73c71c2-5d35-4df1-c49c-6872b745a652"
      },
      "execution_count": 16,
      "outputs": [
        {
          "output_type": "error",
          "ename": "ImportError",
          "evalue": "cannot import name 'SequenceSummary' from 'transformers.modeling_utils' (/usr/local/lib/python3.11/dist-packages/transformers/modeling_utils.py)",
          "traceback": [
            "\u001b[0;31m---------------------------------------------------------------------------\u001b[0m",
            "\u001b[0;31mImportError\u001b[0m                               Traceback (most recent call last)",
            "\u001b[0;32m/tmp/ipython-input-616995958.py\u001b[0m in \u001b[0;36m<cell line: 0>\u001b[0;34m()\u001b[0m\n\u001b[0;32m----> 1\u001b[0;31m \u001b[0;32mfrom\u001b[0m \u001b[0msimpletransformers\u001b[0m\u001b[0;34m.\u001b[0m\u001b[0mclassification\u001b[0m \u001b[0;32mimport\u001b[0m \u001b[0mClassificationModel\u001b[0m\u001b[0;34m\u001b[0m\u001b[0;34m\u001b[0m\u001b[0m\n\u001b[0m",
            "\u001b[0;32m/usr/local/lib/python3.11/dist-packages/simpletransformers/classification/__init__.py\u001b[0m in \u001b[0;36m<module>\u001b[0;34m\u001b[0m\n\u001b[1;32m      1\u001b[0m \u001b[0;32mfrom\u001b[0m \u001b[0msimpletransformers\u001b[0m\u001b[0;34m.\u001b[0m\u001b[0mclassification\u001b[0m\u001b[0;34m.\u001b[0m\u001b[0mclassification_model\u001b[0m \u001b[0;32mimport\u001b[0m \u001b[0mClassificationModel\u001b[0m\u001b[0;34m\u001b[0m\u001b[0;34m\u001b[0m\u001b[0m\n\u001b[0;32m----> 2\u001b[0;31m from simpletransformers.classification.multi_label_classification_model import (\n\u001b[0m\u001b[1;32m      3\u001b[0m     \u001b[0mMultiLabelClassificationModel\u001b[0m\u001b[0;34m,\u001b[0m\u001b[0;34m\u001b[0m\u001b[0;34m\u001b[0m\u001b[0m\n\u001b[1;32m      4\u001b[0m )\n\u001b[1;32m      5\u001b[0m from simpletransformers.classification.multi_modal_classification_model import (\n",
            "\u001b[0;32m/usr/local/lib/python3.11/dist-packages/simpletransformers/classification/multi_label_classification_model.py\u001b[0m in \u001b[0;36m<module>\u001b[0;34m\u001b[0m\n\u001b[1;32m     49\u001b[0m \u001b[0;32mfrom\u001b[0m \u001b[0msimpletransformers\u001b[0m\u001b[0;34m.\u001b[0m\u001b[0mconfig\u001b[0m\u001b[0;34m.\u001b[0m\u001b[0mmodel_args\u001b[0m \u001b[0;32mimport\u001b[0m \u001b[0mMultiLabelClassificationArgs\u001b[0m\u001b[0;34m\u001b[0m\u001b[0;34m\u001b[0m\u001b[0m\n\u001b[1;32m     50\u001b[0m \u001b[0;32mfrom\u001b[0m \u001b[0msimpletransformers\u001b[0m\u001b[0;34m.\u001b[0m\u001b[0mconfig\u001b[0m\u001b[0;34m.\u001b[0m\u001b[0mutils\u001b[0m \u001b[0;32mimport\u001b[0m \u001b[0msweep_config_to_sweep_values\u001b[0m\u001b[0;34m\u001b[0m\u001b[0;34m\u001b[0m\u001b[0m\n\u001b[0;32m---> 51\u001b[0;31m from simpletransformers.custom_models.models import (\n\u001b[0m\u001b[1;32m     52\u001b[0m     \u001b[0mAlbertForMultiLabelSequenceClassification\u001b[0m\u001b[0;34m,\u001b[0m\u001b[0;34m\u001b[0m\u001b[0;34m\u001b[0m\u001b[0m\n\u001b[1;32m     53\u001b[0m     \u001b[0mBertForMultiLabelSequenceClassification\u001b[0m\u001b[0;34m,\u001b[0m\u001b[0;34m\u001b[0m\u001b[0;34m\u001b[0m\u001b[0m\n",
            "\u001b[0;32m/usr/local/lib/python3.11/dist-packages/simpletransformers/custom_models/models.py\u001b[0m in \u001b[0;36m<module>\u001b[0;34m\u001b[0m\n\u001b[1;32m     22\u001b[0m     \u001b[0mBertTokenizerFast\u001b[0m\u001b[0;34m,\u001b[0m\u001b[0;34m\u001b[0m\u001b[0;34m\u001b[0m\u001b[0m\n\u001b[1;32m     23\u001b[0m )\n\u001b[0;32m---> 24\u001b[0;31m \u001b[0;32mfrom\u001b[0m \u001b[0mtransformers\u001b[0m\u001b[0;34m.\u001b[0m\u001b[0mmodeling_utils\u001b[0m \u001b[0;32mimport\u001b[0m \u001b[0mPreTrainedModel\u001b[0m\u001b[0;34m,\u001b[0m \u001b[0mSequenceSummary\u001b[0m\u001b[0;34m\u001b[0m\u001b[0;34m\u001b[0m\u001b[0m\n\u001b[0m\u001b[1;32m     25\u001b[0m from transformers.models.albert.modeling_albert import (\n\u001b[1;32m     26\u001b[0m     \u001b[0mAlbertConfig\u001b[0m\u001b[0;34m,\u001b[0m\u001b[0;34m\u001b[0m\u001b[0;34m\u001b[0m\u001b[0m\n",
            "\u001b[0;31mImportError\u001b[0m: cannot import name 'SequenceSummary' from 'transformers.modeling_utils' (/usr/local/lib/python3.11/dist-packages/transformers/modeling_utils.py)",
            "",
            "\u001b[0;31m---------------------------------------------------------------------------\u001b[0;32m\nNOTE: If your import is failing due to a missing package, you can\nmanually install dependencies using either !pip or !apt.\n\nTo view examples of installing some common dependencies, click the\n\"Open Examples\" button below.\n\u001b[0;31m---------------------------------------------------------------------------\u001b[0m\n"
          ],
          "errorDetails": {
            "actions": [
              {
                "action": "open_url",
                "actionText": "Open Examples",
                "url": "/notebooks/snippets/importing_libraries.ipynb"
              }
            ]
          }
        }
      ]
    }
  ]
}